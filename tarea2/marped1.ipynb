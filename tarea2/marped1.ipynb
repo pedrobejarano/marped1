{
 "cells": [
  {
   "cell_type": "markdown",
   "metadata": {},
   "source": [
    "**Autores**: Mario Ruiz Velázquez y Pedro J. Bejarano Díaz\n",
    "\n",
    "**Contacto**: marioruizvelazquez@gmail.com/ pedro.bejarano@jerez.es\n",
    "\n",
    "**Fecha**: 23/02/2019\n",
    "\n",
    "**Título: Regulación mediante LEC1 de genes involucrados en el desarrollo de las semillas** "
   ]
  },
  {
   "cell_type": "markdown",
   "metadata": {},
   "source": [
    "**1.INTRODUCIÓN**"
   ]
  },
  {
   "cell_type": "markdown",
   "metadata": {},
   "source": [
    "Las semillas siguen un desarrollo bifásico, comenzando por una fase de  morfogénesis, en la que se producen fenómenos de proliferación y diferenciación celular y una posterior etapa de maduración. En esta última, la proliferación cesa y se comienzan a acumular macromoléculas de almacenamiento que preparan a la semilla para la desecación y la posterior germinación.\n",
    "\n",
    "A pesar de la importancia de las semillas para el desarrollo exitoso de la planta y, por tanto, de la industria alimentaria, se conoce poco acerca de la regulación de los genes que actúan durante este proceso.\n",
    "\n",
    "**LEC1** es una subunidad  del factor de transcripción de unión CCAAT del factor de transcripción nuclear Y (NF-Y CCAAT), que es un regulador central de la fase de maduración durante el desarrollo de las semillas, regulando genes con importantes funciones como aquellos que codifican proteínas de almacenamiento (acumulación de lípidos en órganos vegetativos). Además de esta función, también regula a genes relacionados con las respuestas hormonales y la señalización luminosa.\n"
   ]
  },
  {
   "cell_type": "markdown",
   "metadata": {},
   "source": [
    "**1.1 OBJETIVO**\n",
    "\n",
    "El objetivo de este trabajo es demostrar que LEC1 es un regulador central que controla muchos aspectos durante el desarrollo de la semilla, principalmente en la maduración."
   ]
  },
  {
   "cell_type": "markdown",
   "metadata": {},
   "source": [
    "**1.2 MUESTRAS**\n",
    "\n",
    "Para identificar el papel transcripcional de LEC1 durante la etapa de cotiledon doblado (semillas) en *Arabidopsis thaliana*, se realizó un exprimento Chip-seq. Las librerías se prepararon usando el protocolo Illumina. Hay dos réplicas biológicas para el chip y dos para el input. Las plantas se cultivaron con luz continua a 20 ºC. \n",
    "\n",
    "**CHIP**:\n",
    "\n",
    "La inmunoprecipitación de la cromatina se realizó con una línea transformada con GFP, para ello se usaron anticuerpos anti-GFP (Neuromab 75-131), con fragmentos de ADN unidos a LEC1. Posteriormente, se compararon con la cromatina fragmentada total de los mismos materiales biológicos, pero sin anticuerpo. \n",
    "\n",
    "**INPUT**:\n",
    "\n",
    "Son las muestras que actúan como control negativo."
   ]
  },
  {
   "cell_type": "markdown",
   "metadata": {},
   "source": [
    "**2.ANÁLISIS DE CALIDAD**"
   ]
  },
  {
   "cell_type": "markdown",
   "metadata": {},
   "source": [
    "El fichero index devuelve archivos con la información de la calidad en formato html. Estos archivos contienen el índice de calidad de las muestras analizadas en formato FastQC.\n",
    "\n",
    "El análisis de calidad que hace el fichero FastQC se basa en los siguientes parámetros:\n",
    "\n",
    "**Basic statistics**. Da información sobre el nombre del fichero que se ha procesado, el tipo de fichero, el número total de secuencias que han sido analizadas, la longitud en bases de cada secuencia y el porcentaje del contenido en GC.\n",
    "\n",
    "**Calidad de la secuencia por bases**. Se trata de un gráfico que toma valores en el eje de abscisas desde 0 hasta el número total de bases que contiene una secuencia (se puede observar en el parámetro anterior) y en el eje de oordenadas, la calidad. Es de tipo boxplot, donde cada caja representa las primeras bases del número total de lecturas realizadas. En función a la franja en la que se encuentren las cajas del boxplot, la calidad de la muestra será diferente, siendo óptima en color verde y deficiente en amarillo y rojo.\n",
    "\n",
    "**Contenido de bases por cada posición**. Lo esperado es que el contenido en bases (A, T, C y G) corresponda al que se observa en el genoma del organismo. En este caso, *Arabidopsis thaliana* tiene más alto contenido en AT que en GC. Si esto no sale así y en su lugar se obtienen porcentajes altos de GC, lo que se demuestra es que no se está trabajando con secuencias del organismo, sino que las muestras se han contaminado. Cabe mencionar que al principio de las lecturas se observa una distorsión común, que hace que este parámetro siempre tenga baja calidad, y que corresponde con el adaptador que se pega en el extremo 5' para realizar la secuenciación. Para eliminar el adaptador del extremo 3' nunca hay problemas, no así en el extremo 5', en cuyo caso aparecen distorsiones.\n",
    "\n",
    "En función de la calidad de las muestras, los parámetros tendrán color verde (buena calidad) y amarillo o rojo (media/mala calidad).\n",
    "\n",
    "A continuación, se muestran gráficos de la calidad de la secuencia por bases y contenido de bases por cada posición. Al observar estos gráficos se pueden concluir que las muestras son de buena calidad.\n",
    "\n",
    "CHIP1:\n",
    "\n",
    "<img src=\"images/qc_chip1.png\">\n",
    "    \n",
    "CHIP2:\n",
    "\n",
    "<img src=\"images/qc_chip2.png\">\n",
    "\n",
    "INPUT1:\n",
    "\n",
    "<img src=\"images/qc_input1.png\">\n",
    "\n",
    "INPUT2:\n",
    "\n",
    "<img src=\"images/qc_input2.png\">\n",
    "\n",
    "\n"
   ]
  },
  {
   "cell_type": "markdown",
   "metadata": {},
   "source": [
    "**3. RESULTADOS**"
   ]
  },
  {
   "cell_type": "markdown",
   "metadata": {},
   "source": [
    "**3.1 ANÁLISIS EN IGV**"
   ]
  },
  {
   "cell_type": "markdown",
   "metadata": {},
   "source": [
    "Se realiza en IGV un análisis de los genes de interés para las dos réplicas. Con esta herramienta se realiza el mapeo de lecturas cortas, de modo que si en la zona que corresponde al promotor (zona previa a donde se encuentra el gen de interés) aparecen unidas muchas secuencias, el factor de transcripción se está uniendo ahí. \n",
    "\n",
    "\n",
    "**ABI3**\n",
    "\n",
    "*REPLICA 1*\n",
    "\n",
    "<img src=\"images/ab13_1.png\">\n",
    "\n",
    "<img src=\"images/ab13_1_narrow.png\">\n",
    "\n",
    "*REPLICA 2*\n",
    "\n",
    "<img src=\"images/ab13_1.png\">\n",
    "\n",
    "<img src=\"images/ab13_2_narrow.png\">\n",
    "\n",
    "**FUS3**\n",
    "\n",
    "*REPLICA 1*\n",
    "\n",
    "<img src=\"images/fus3_1.png\">\n",
    "\n",
    "<img src=\"images/fus3_1_narrow.png\">\n",
    "\n",
    "*REPLICA 2*\n",
    "\n",
    "<img src=\"images/fus3_2.png\">\n",
    "\n",
    "<img src=\"images/fus3_2_narrow.png\">\n",
    "\n",
    "En las figuras anteriores, se observa un pico aguas abajo del inicio del gen ABI3 y aguas arriba del gen FUS3. Estos picos corresponden con el promotor del gen, al cual se une el factor de transcripción.\n",
    "\n",
    "Estos dos genes son diana del factor de transcripción LEC1 y codifican a otros factores de transcripción que están involucrados en diveros procesos durante la maduración de la semilla. \n",
    "\n",
    "ABI3: Controla la sensibilidad al ácido abscísico y la expresión de los miembros de la familia de genes de la proteína de almacenamiento 12S. Además es regulado de manera positiva por LEC1 y FUS3.\n",
    "\n",
    "FUS3: Participa en el control de la identidad de los órganos foliares en *Arabidopsis* mediante la regulación de la síntesis de dos hormonas, el ácido abscísico y la giberelina.\n",
    "\n",
    "Mediante este estudio se demuestra que LEC1 regula a estos dos genes, ya que el archivo Narrow Peak, coincide con las zonas donde se ha obtenido mayor número de lecturas.\n"
   ]
  },
  {
   "cell_type": "markdown",
   "metadata": {},
   "source": [
    " **3.2 ANÁLISIS DE LOS MOTIVOS GÉNICOS**"
   ]
  },
  {
   "cell_type": "markdown",
   "metadata": {},
   "source": [
    "Otro estudio interesante para los factores de transcripción es analizar cuáles son sus dianas en el genoma. Para que el factor de transcripción se pueda unir al promotor de un gen, debe reconocer una secuencia de nucleótidos llamada motivo.\n",
    "Los motivos de secuencia son patrones cortos de DNA que tienen función biológica. Para realizar este estudio, se utiliza la\n",
    "herramienta **HOMER** (Hypergeometric Optimization of Motif EnRichment), que devolverá motivos enriquecidos en regiones genómicas para este factor de transcripción.\n",
    "\n",
    "El tamaño de la letra en el diagrama de bases (ver abajo) determina la probabilidad que ese nucleotido se encuentre en el motivo de ese factor de transcripción. A mayor tamaño de la letra, mayor probabilidad.\n",
    "\n",
    "A continuación se adjuntan los motivos génicos encontrados para ambas réplicas:\n",
    "\n",
    "**RÉPLICA 1**\n",
    "\n",
    "<img src=\"images/homer_1.png\">\n",
    "\n",
    "**RÉPLICA 2**\n",
    "\n",
    "<img src=\"images/homer_2.png\">\n",
    "\n",
    "Se observa en las dos réplicas que aparece muy frecuentemente un motivo cuya secuencia de nucleótidos es **CACGTG**. Esto indica que el factor de transcripción se une con mayor afinidad a zonas en el genoma que tengan este motivo. Al analizar los genes que tienen la secuencia más similiar a la del motivo se obtienen los siguientes resultados:\n",
    "\n",
    "**ABF1** : Factor de unión a un elemento sensible al ácido absícico en A.Thaliana\n",
    "\n",
    "**BHLH34** : Factor de transcripción de A.thaliana\n",
    "\n",
    "**bZIP16** : Factor de transcripción de A.Thaliana que está relacionado con la respuesta a la luz.\n",
    "\n",
    "**ABI5**: Factor de transcripción de A.thaliana que participa en la expresión de genes regulados por ABA durante el desarrollo de la semilla\n",
    "\n",
    "Con este estudio se demuestra que LEC1 es un factor de transcripción que se une a otros factores de transcripción que desempeñan funciones importantes durante el desarrollo de la semilla."
   ]
  },
  {
   "cell_type": "markdown",
   "metadata": {},
   "source": [
    "**3.3 PROCESAMIENTO DE LOS PICOS Y ANÁLISIS DE ONTOLOGÍA GÉNICA**\n",
    "\n",
    "\n",
    "Posteriormente, con la herramienta Rstudio se estudia con mayor profundidad los genes que interaccionan con el factor de transcripción LEC1.\n",
    "\n",
    "El primer paquete descargado de Bioconductor que se va a utilizar es ChIPseeker. \n",
    "De este paquete se usa la función **getPromoter** para definir la región del promotor, que tiene una longitud de 1000 pb.\n",
    "\n",
    "Posteriormente, se determinan los genes que están relacionados con los picos que se encontraron en el IGV. Para ello se realiza la anotación de picos mediante la función **annotatePeak**. El criterio elegido es la cercanía de los picos aguas arribas y aguas abajo del gen.\n",
    "Al realizar la anotación de los picos se encontraron 11883 sitios de unión, que son los genes a los que se une el factor de transcripción. Los genes anotados se encuentran en el siguiente archivo:\n",
    "\n",
    "<img src=\"images/plot.png\">\n",
    "\n",
    "Por un lado, la mayoría de los picos encontrados se corresponden con regiones asociadas a promotores (76,47%), por lo tanto, fundamentalmente tienen una función de activación de la expresión génica. Por otro lado, también aparece un porcentaje de picos en las regiones intergénicas (9,97%), las cuales no suelen presentar funciones conocidas.\n",
    "\n",
    "A continuación se realiza un vennpie:\n",
    "\n",
    "<img src=\"images/vennpie.png\">\n",
    "\n",
    "Se observa que toda la región génica solapa con la región exónica, esto significa que estas regiones están codificando proteínas.\n",
    "\n",
    "También se observa la distancia del sitio de unión al TSS más cercano:\n",
    "\n",
    "<img src=\"images/distribution.png\">\n",
    "\n",
    "Se observa en la imagen que la mayoría de los genes se encuentran cerca del sitio del inicio de la transcripción, esto coincide con lo esperado porque el factor de transcripción se une al promotor, que suele estar cerca del lugar de inicio de la transcripción.\n",
    "\n",
    "\n",
    "Posteriormente, se carga el paquete **clusterProfiler** y la base de datos del organismo que se está utilizando, en este caso A.Thaliana, **org.At.tair.db**\n",
    "\n",
    "A continuación, haciendo uso de la función **enrichGO** se realiza un análisis de enriquecimiento de ontología génica que devolverá las funciones principales que desempeñan los genes que aparecen con mayor significancia con respecto al total. Como consecuencia, nos muestra en que funciones está implicado el factor de transcripción.\n",
    "\n",
    "<img src=\"images/Graficabarras.png\">\n",
    "\n",
    "La mayoría de los genes activados están implicados en rutas de respuesta celular a lípidos y respuesta al doblamiento de la semilla y a la escasez de agua. Esto demuestra que los genes que regula este factor de transcripción desempeñan funciones importantes durante la fase de maduración de la semilla.\n",
    "\n",
    "A continuación, se realiza un gráfico que relaciona las diferentes funciones genes vista anteriormente mediante redes biológicas.\n",
    "\n",
    "<img src=\"images/Graficared.png\">\n",
    "\n",
    "\n",
    "Se observa como los genes en respuesta a lípidos, están relacionados con los de respuesta a agua y sequía. Estas funciones coinciden con la etapa de morfogénesis de la semilla en la cual, se acumulan macromoléculas y donde además debe soportar condiciones de estrés. Dentro de esta red también existe relación con hormonas como el ácido abscísico (ABA), el cuál promueve la dormancia de la semilla hasta que encuentre condiciones adecuadas para la germinación. También aparece otra hormona, el ácido jasmónico, cuya función es la defensa de la planta frente a insectos y se observa que está relacionado con clúster la respuesta al doblamiento de la semilla. Esto significa que la semilla no germinará mientras las condiciones ambientales no sean las adecuadas.\n",
    "\n",
    "Finalmente, se realiza un análisis de las rutas KEGG. El KEGG es una bases de datos para el análisis de rutas biológicas o enzimáticas. Utilizando la función **enrichKEGG** y **pathview**, KEGG ofrece la posibilidad de visualizar la ruta interacción molecular del gen de interés.\n",
    "\n",
    "<img src=\"images/ath04075.pathview.png\">\n",
    "\n",
    "\n",
    "En este esquema se observa la transducción de señales que desencadena cada hormona y la función que desencadena en la planta."
   ]
  },
  {
   "cell_type": "markdown",
   "metadata": {},
   "source": [
    "4. **DISCUSIÓN**\n",
    "\n",
    "En este trabajo se comprueba que LEC1 es un factor de transcrición que actúa como regulador central de otros factores de transcripción que participan en el desarrollo de la semilla, en la fase de cotiledón doblado. \n",
    "\n",
    "Esta regulación compleja en la que está involucrado LEC1 es la causa por la que tenga tantos genes diana, ya que aunque no los regule directamente, si regula a otros factores de transcripción que regularán a otros genes.\n",
    "\n",
    "Al analizar los términos de ontología génica se demuestra que los procesos en los que están implicados los genes regulados con LEC1, están muy relacionados con la fase de maduración de la semilla \n",
    "\n",
    "Este factor de transcripción también desempeña una labor importante en la regulación hormonal. Por ejemplo, participa en la dormición de la semilla, mediante la regulación del ABA. Este proceso es esencial para que la semilla no germine antes de lo adecuado.\n",
    "\n",
    "5. **BIBLIOGRAFÍA**\n",
    "\n",
    "ARTÍCULO PRINCIPAL\n",
    "- Pelletier JM, Kwong RW, Park S, et al. LEC1 sequentially regulates the transcription of genes involved in diverse developmental processes during seed development. Proc Natl Acad Sci U S A. 2017;114(32):E6710–E6719. doi:10.1073/pnas.1707957114\n",
    "\n",
    "Los datos utilizados se encuentran en la base de datos de NCBI, GEO, y se puede acceder a ellos a través del número de acceso: GSE99587 o en el siguiente enlace\n",
    "https://www.ncbi.nlm.nih.gov/geo/query/acc.cgi?acc=GSE99587\n",
    "\n",
    "**RStudio**\n",
    "\n",
    "RStudio Team (2015). RStudio: Integrated Development for R. RStudio, Inc., Boston, MA URL http://www.rstudio.com/.\n",
    "ChIPseeker. Guangchuang Yu, Li-Gen Wang, Qing-Yu He. ChIPseeker: an R/Bioconductor package for ChIP peak annotation, comparison and visualization. Bioinformatics 2015, 31(14):2382-2383.\n",
    "clusterProfiler. Guangchuang Yu, Li-Gen Wang, Yanyan Han, Qing-Yu He. clusterProfiler: an R package for comparing biological themes among gene clusters. OMICS: A Journal of Integrative Biology. 2012, 16(5):284-2.\n",
    "\n",
    "**Bioconductor**\n",
    "\n",
    "Orchestrating high-throughput genomic analysis with Bioconductor. W. Huber, V.J. Carey, R. Gentleman, ..., M. Morgan Nature Methods, 2015:12, 115. https://www.bioconductor.org/\n",
    "\n",
    "**Homer**\n",
    "\n",
    "Heinz S, Benner C, Spann N, Bertolino E et al. Simple Combinations of Lineage-Determining Transcription Factors Prime cis-Regulatory Elements Required for Macrophage and B Cell Identities. Mol Cell 2010 May 28;38(4):576-589. PMID: 20513432\n",
    "\n",
    "**Jupyter notebook**\n",
    "Thomas Kluyver, Benjamin Ragan-Kelley, Fernando Pérez, Brian Granger, Matthias Bussonnier, Jonathan Frederic, Kyle Kelley, Jessica Hamrick, Jason Grout, Sylvain Corlay, Paul Ivanov, Damián Avila, Safia Abdalla, Carol Willing, Jupyter Development Team. Jupyter Notebooks – a publishing format for reproducible computational workflows.\n",
    "\n"
   ]
  }
 ],
 "metadata": {
  "kernelspec": {
   "display_name": "Python 3",
   "language": "python",
   "name": "python3"
  },
  "language_info": {
   "codemirror_mode": {
    "name": "ipython",
    "version": 3
   },
   "file_extension": ".py",
   "mimetype": "text/x-python",
   "name": "python",
   "nbconvert_exporter": "python",
   "pygments_lexer": "ipython3",
   "version": "3.7.4"
  }
 },
 "nbformat": 4,
 "nbformat_minor": 2
}
